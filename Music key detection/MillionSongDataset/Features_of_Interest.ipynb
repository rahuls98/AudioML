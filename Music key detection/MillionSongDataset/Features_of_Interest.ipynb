{
 "cells": [
  {
   "cell_type": "code",
   "execution_count": 1,
   "metadata": {},
   "outputs": [],
   "source": [
    "import numpy as np\n",
    "import pandas as pd"
   ]
  },
  {
   "cell_type": "code",
   "execution_count": 2,
   "metadata": {},
   "outputs": [],
   "source": [
    "df = pd.read_csv('../../MillionSongSubset/mss.csv')"
   ]
  },
  {
   "cell_type": "code",
   "execution_count": 3,
   "metadata": {
    "scrolled": true
   },
   "outputs": [
    {
     "data": {
      "text/plain": [
       "Unnamed: 0                                                                    0\n",
       "analysis_sample_rate                                                      22050\n",
       "artist_7digitalid                                                        111885\n",
       "artist_familiarity                                                     0.497942\n",
       "artist_hotttnesss                                                      0.341073\n",
       "artist_id                                                 b'AR63RWN1187FB3E89A'\n",
       "artist_latitude                                                         34.5604\n",
       "artist_location                                                  b'Marvell, AR'\n",
       "artist_longitude                                                       -90.9139\n",
       "artist_mbid                             b'2b520be3-0bfe-4904-b372-d04b8cc161ec'\n",
       "artist_mbtags                                                        [b'blues']\n",
       "artist_mbtags_count                                                         [1]\n",
       "artist_name                                             b'Robert Lockwood_ Jr.'\n",
       "artist_playmeid                                                           47650\n",
       "artist_terms                  [b'delta blues' b'chicago blues' b'blues' b'bl...\n",
       "artist_terms_freq             [0.97162843 0.94325686 1.         0.81788226 0...\n",
       "artist_terms_weight           [1.         0.97807224 0.90093347 0.88117299 0...\n",
       "audio_md5                                   b'9ceb016fe87e7e97b48515e33d7b5b10'\n",
       "bars_confidence               [0.774 0.337 0.515 0.521 0.38  0.505 0.48  0.6...\n",
       "bars_start                    [  0.3642    0.96449   1.59554   2.21121   2.8...\n",
       "beats_confidence              [0.774 0.337 0.515 0.521 0.38  0.505 0.48  0.6...\n",
       "beats_start                   [  0.3642    0.96449   1.59554   2.21121   2.8...\n",
       "danceability                                                                  0\n",
       "duration                                                                162.455\n",
       "end_of_fade_in                                                            0.374\n",
       "energy                                                                        0\n",
       "key                                                                           2\n",
       "key_confidence                                                            0.491\n",
       "loudness                                                                -13.158\n",
       "mode                                                                          1\n",
       "mode_confidence                                                           0.569\n",
       "release                                             b'I Got To Find Me A Woman'\n",
       "release_7digitalid                                                       369461\n",
       "sections_confidence           [1.    0.663 0.132 0.408 0.354 0.214 0.298 0.431]\n",
       "sections_start                [  0.       14.55654  39.24917  69.54568  87.1...\n",
       "segments_confidence           [0.    1.    0.412 0.253 1.    0.041 0.483 0.9...\n",
       "segments_loudness_max         [-60.    -23.316 -26.053 -26.587 -20.279 -29.1...\n",
       "segments_loudness_max_time    [0.      0.11948 0.0329  0.01915 0.04339 0.026...\n",
       "segments_loudness_start       [-60.    -60.    -29.497 -30.862 -41.905 -31.1...\n",
       "segments_pitches              [[1.    1.    1.    ... 1.    1.    1.   ]\\n [...\n",
       "segments_start                [  0.        0.37442   0.80222   1.06336   1.6...\n",
       "segments_timbre               [[   0.     171.13     9.469 ...    0.973  -10...\n",
       "similar_artists               [b'ARFGMSJ122988ED7A0' b'ARE03EE1187B9BA249' b...\n",
       "song_hotttnesss                                                               0\n",
       "song_id                                                   b'SOYWVRO12AB018353B'\n",
       "start_of_fade_out                                                       150.013\n",
       "tatums_confidence             [0.    0.    0.    0.    0.    0.    0.    0. ...\n",
       "tatums_start                  [6.4060000e-02 3.6420000e-01 6.6434000e-01 9.6...\n",
       "tempo                                                                    99.701\n",
       "time_signature                                                                1\n",
       "time_signature_confidence                                                 0.089\n",
       "title                                                b'Kindhearted Woman Blues'\n",
       "track_7digitalid                                                    4.11497e+06\n",
       "track_id                                                  b'TRBDLIB128F9338167'\n",
       "transfer_note                 transferred on Wed Jun  5 20:07:24 2019 from f...\n",
       "year                                                                       1998\n",
       "Name: 0, dtype: object"
      ]
     },
     "execution_count": 3,
     "metadata": {},
     "output_type": "execute_result"
    }
   ],
   "source": [
    "df.iloc[0]"
   ]
  },
  {
   "cell_type": "code",
   "execution_count": 4,
   "metadata": {
    "scrolled": true
   },
   "outputs": [
    {
     "data": {
      "text/plain": [
       "'[[1.    1.    1.    ... 1.    1.    1.   ]\\n [0.009 0.007 0.015 ... 0.011 0.019 0.032]\\n [0.005 0.006 0.009 ... 0.022 0.004 0.006]\\n ...\\n [0.113 0.547 0.054 ... 0.023 0.058 0.181]\\n [0.01  0.398 0.017 ... 0.005 0.004 0.034]\\n [0.049 0.925 0.055 ... 0.02  0.092 0.086]]'"
      ]
     },
     "execution_count": 4,
     "metadata": {},
     "output_type": "execute_result"
    }
   ],
   "source": [
    "df.iloc[0]['segments_pitches']"
   ]
  },
  {
   "cell_type": "code",
   "execution_count": 6,
   "metadata": {},
   "outputs": [],
   "source": [
    "new_df = df[['title','key','key_confidence','mode','mode_confidence','segments_pitches']]"
   ]
  },
  {
   "cell_type": "code",
   "execution_count": 7,
   "metadata": {
    "scrolled": true
   },
   "outputs": [
    {
     "data": {
      "text/html": [
       "<div>\n",
       "<style scoped>\n",
       "    .dataframe tbody tr th:only-of-type {\n",
       "        vertical-align: middle;\n",
       "    }\n",
       "\n",
       "    .dataframe tbody tr th {\n",
       "        vertical-align: top;\n",
       "    }\n",
       "\n",
       "    .dataframe thead th {\n",
       "        text-align: right;\n",
       "    }\n",
       "</style>\n",
       "<table border=\"1\" class=\"dataframe\">\n",
       "  <thead>\n",
       "    <tr style=\"text-align: right;\">\n",
       "      <th></th>\n",
       "      <th>title</th>\n",
       "      <th>key</th>\n",
       "      <th>key_confidence</th>\n",
       "      <th>mode</th>\n",
       "      <th>mode_confidence</th>\n",
       "      <th>segments_pitches</th>\n",
       "    </tr>\n",
       "  </thead>\n",
       "  <tbody>\n",
       "    <tr>\n",
       "      <th>0</th>\n",
       "      <td>b'Kindhearted Woman Blues'</td>\n",
       "      <td>2.0</td>\n",
       "      <td>0.491</td>\n",
       "      <td>1.0</td>\n",
       "      <td>0.569</td>\n",
       "      <td>[[1.    1.    1.    ... 1.    1.    1.   ]\\n [...</td>\n",
       "    </tr>\n",
       "    <tr>\n",
       "      <th>1</th>\n",
       "      <td>b'Watchie Watchie'</td>\n",
       "      <td>11.0</td>\n",
       "      <td>0.471</td>\n",
       "      <td>0.0</td>\n",
       "      <td>0.468</td>\n",
       "      <td>[[0.061 0.042 0.039 ... 0.201 0.076 0.049]\\n [...</td>\n",
       "    </tr>\n",
       "    <tr>\n",
       "      <th>2</th>\n",
       "      <td>b'Dying To Stay'</td>\n",
       "      <td>1.0</td>\n",
       "      <td>0.835</td>\n",
       "      <td>1.0</td>\n",
       "      <td>0.477</td>\n",
       "      <td>[[0.079 0.039 0.037 ... 0.726 1.    0.17 ]\\n [...</td>\n",
       "    </tr>\n",
       "    <tr>\n",
       "      <th>3</th>\n",
       "      <td>b'Beneath The Valley Of The Underdog (Album Ve...</td>\n",
       "      <td>0.0</td>\n",
       "      <td>0.434</td>\n",
       "      <td>1.0</td>\n",
       "      <td>0.587</td>\n",
       "      <td>[[0.242 0.217 0.164 ... 0.667 0.248 0.175]\\n [...</td>\n",
       "    </tr>\n",
       "    <tr>\n",
       "      <th>4</th>\n",
       "      <td>b'Take Five - Live'</td>\n",
       "      <td>11.0</td>\n",
       "      <td>0.652</td>\n",
       "      <td>0.0</td>\n",
       "      <td>0.253</td>\n",
       "      <td>[[1.    0.981 0.648 ... 0.635 0.601 0.403]\\n [...</td>\n",
       "    </tr>\n",
       "  </tbody>\n",
       "</table>\n",
       "</div>"
      ],
      "text/plain": [
       "                                               title   key  key_confidence  \\\n",
       "0                         b'Kindhearted Woman Blues'   2.0           0.491   \n",
       "1                                 b'Watchie Watchie'  11.0           0.471   \n",
       "2                                   b'Dying To Stay'   1.0           0.835   \n",
       "3  b'Beneath The Valley Of The Underdog (Album Ve...   0.0           0.434   \n",
       "4                                b'Take Five - Live'  11.0           0.652   \n",
       "\n",
       "   mode  mode_confidence                                   segments_pitches  \n",
       "0   1.0            0.569  [[1.    1.    1.    ... 1.    1.    1.   ]\\n [...  \n",
       "1   0.0            0.468  [[0.061 0.042 0.039 ... 0.201 0.076 0.049]\\n [...  \n",
       "2   1.0            0.477  [[0.079 0.039 0.037 ... 0.726 1.    0.17 ]\\n [...  \n",
       "3   1.0            0.587  [[0.242 0.217 0.164 ... 0.667 0.248 0.175]\\n [...  \n",
       "4   0.0            0.253  [[1.    0.981 0.648 ... 0.635 0.601 0.403]\\n [...  "
      ]
     },
     "execution_count": 7,
     "metadata": {},
     "output_type": "execute_result"
    }
   ],
   "source": [
    "new_df.head()"
   ]
  },
  {
   "cell_type": "code",
   "execution_count": 10,
   "metadata": {},
   "outputs": [
    {
     "data": {
      "text/plain": [
       "'[[1.    1.    1.    ... 1.    1.    1.   ]\\n [0.009 0.007 0.015 ... 0.011 0.019 0.032]\\n [0.005 0.006 0.009 ... 0.022 0.004 0.006]\\n ...\\n [0.113 0.547 0.054 ... 0.023 0.058 0.181]\\n [0.01  0.398 0.017 ... 0.005 0.004 0.034]\\n [0.049 0.925 0.055 ... 0.02  0.092 0.086]]'"
      ]
     },
     "execution_count": 10,
     "metadata": {},
     "output_type": "execute_result"
    }
   ],
   "source": [
    "new_df.iloc[0]['segments_pitches']"
   ]
  },
  {
   "cell_type": "code",
   "execution_count": 11,
   "metadata": {},
   "outputs": [
    {
     "data": {
      "text/plain": [
       "(10000, 6)"
      ]
     },
     "execution_count": 11,
     "metadata": {},
     "output_type": "execute_result"
    }
   ],
   "source": [
    "new_df.shape"
   ]
  },
  {
   "cell_type": "code",
   "execution_count": 12,
   "metadata": {},
   "outputs": [],
   "source": [
    "new_df.to_csv('data.csv')"
   ]
  }
 ],
 "metadata": {
  "kernelspec": {
   "display_name": "Python 3",
   "language": "python",
   "name": "python3"
  },
  "language_info": {
   "codemirror_mode": {
    "name": "ipython",
    "version": 3
   },
   "file_extension": ".py",
   "mimetype": "text/x-python",
   "name": "python",
   "nbconvert_exporter": "python",
   "pygments_lexer": "ipython3",
   "version": "3.6.4"
  }
 },
 "nbformat": 4,
 "nbformat_minor": 2
}
