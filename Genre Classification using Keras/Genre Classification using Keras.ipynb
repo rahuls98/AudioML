{
 "cells": [
  {
   "cell_type": "code",
   "execution_count": 2,
   "metadata": {},
   "outputs": [],
   "source": [
    "import librosa\n",
    "import pandas as pd\n",
    "import numpy as np\n",
    "import matplotlib.pyplot as plt"
   ]
  },
  {
   "cell_type": "code",
   "execution_count": 8,
   "metadata": {},
   "outputs": [],
   "source": [
    "from PIL import Image"
   ]
  },
  {
   "cell_type": "code",
   "execution_count": 9,
   "metadata": {},
   "outputs": [],
   "source": [
    "import os\n",
    "import pathlib\n",
    "import csv"
   ]
  },
  {
   "cell_type": "markdown",
   "metadata": {},
   "source": [
    "LabelEncoder : Encode labels with value between 0 and n_classes-1\n",
    "- can be used to normalize labels.\n",
    "- It can also be used to transform non-numerical labels (as long as they are hashable and comparable) to numerical labels.\n",
    "\n",
    "StandardScaler : Standardize features by removing the mean and scaling to unit variance\n"
   ]
  },
  {
   "cell_type": "code",
   "execution_count": 11,
   "metadata": {},
   "outputs": [],
   "source": [
    "from sklearn.model_selection import train_test_split\n",
    "from sklearn.preprocessing import LabelEncoder, StandardScaler"
   ]
  },
  {
   "cell_type": "code",
   "execution_count": 16,
   "metadata": {},
   "outputs": [],
   "source": [
    "import warnings\n",
    "warnings.filterwarnings('ignore')"
   ]
  },
  {
   "cell_type": "code",
   "execution_count": 17,
   "metadata": {},
   "outputs": [],
   "source": [
    "import keras"
   ]
  },
  {
   "cell_type": "markdown",
   "metadata": {},
   "source": [
    "### Dataset"
   ]
  },
  {
   "cell_type": "markdown",
   "metadata": {},
   "source": [
    "GTZAN genre collection dataset. \n",
    "Consists of 10 genres, each with 1000 songs\n",
    "\n",
    "The data contains the following features extracted from the spectrogram:\n",
    "- MFCC (20)\n",
    "- Spectral centroid\n",
    "- zero crossing rate\n",
    "- chroma frequencies \n",
    "- spectral roll-off"
   ]
  },
  {
   "cell_type": "code",
   "execution_count": 18,
   "metadata": {
    "scrolled": true
   },
   "outputs": [
    {
     "data": {
      "text/html": [
       "<div>\n",
       "<style scoped>\n",
       "    .dataframe tbody tr th:only-of-type {\n",
       "        vertical-align: middle;\n",
       "    }\n",
       "\n",
       "    .dataframe tbody tr th {\n",
       "        vertical-align: top;\n",
       "    }\n",
       "\n",
       "    .dataframe thead th {\n",
       "        text-align: right;\n",
       "    }\n",
       "</style>\n",
       "<table border=\"1\" class=\"dataframe\">\n",
       "  <thead>\n",
       "    <tr style=\"text-align: right;\">\n",
       "      <th></th>\n",
       "      <th>filename</th>\n",
       "      <th>chroma_stft</th>\n",
       "      <th>rmse</th>\n",
       "      <th>spectral_centroid</th>\n",
       "      <th>spectral_bandwidth</th>\n",
       "      <th>rolloff</th>\n",
       "      <th>zero_crossing_rate</th>\n",
       "      <th>mfcc1</th>\n",
       "      <th>mfcc2</th>\n",
       "      <th>mfcc3</th>\n",
       "      <th>...</th>\n",
       "      <th>mfcc12</th>\n",
       "      <th>mfcc13</th>\n",
       "      <th>mfcc14</th>\n",
       "      <th>mfcc15</th>\n",
       "      <th>mfcc16</th>\n",
       "      <th>mfcc17</th>\n",
       "      <th>mfcc18</th>\n",
       "      <th>mfcc19</th>\n",
       "      <th>mfcc20</th>\n",
       "      <th>label</th>\n",
       "    </tr>\n",
       "  </thead>\n",
       "  <tbody>\n",
       "    <tr>\n",
       "      <th>0</th>\n",
       "      <td>blues.00081.au</td>\n",
       "      <td>0.380260</td>\n",
       "      <td>0.248262</td>\n",
       "      <td>2116.942959</td>\n",
       "      <td>1956.611056</td>\n",
       "      <td>4196.107960</td>\n",
       "      <td>0.127272</td>\n",
       "      <td>-26.929785</td>\n",
       "      <td>107.334008</td>\n",
       "      <td>-46.809993</td>\n",
       "      <td>...</td>\n",
       "      <td>14.336612</td>\n",
       "      <td>-13.821769</td>\n",
       "      <td>7.562789</td>\n",
       "      <td>-6.181372</td>\n",
       "      <td>0.330165</td>\n",
       "      <td>-6.829571</td>\n",
       "      <td>0.965922</td>\n",
       "      <td>-7.570825</td>\n",
       "      <td>2.918987</td>\n",
       "      <td>blues</td>\n",
       "    </tr>\n",
       "    <tr>\n",
       "      <th>1</th>\n",
       "      <td>blues.00022.au</td>\n",
       "      <td>0.306451</td>\n",
       "      <td>0.113475</td>\n",
       "      <td>1156.070496</td>\n",
       "      <td>1497.668176</td>\n",
       "      <td>2170.053545</td>\n",
       "      <td>0.058613</td>\n",
       "      <td>-233.860772</td>\n",
       "      <td>136.170239</td>\n",
       "      <td>3.289490</td>\n",
       "      <td>...</td>\n",
       "      <td>-2.250578</td>\n",
       "      <td>3.959198</td>\n",
       "      <td>5.322555</td>\n",
       "      <td>0.812028</td>\n",
       "      <td>-1.107202</td>\n",
       "      <td>-4.556555</td>\n",
       "      <td>-2.436490</td>\n",
       "      <td>3.316913</td>\n",
       "      <td>-0.608485</td>\n",
       "      <td>blues</td>\n",
       "    </tr>\n",
       "    <tr>\n",
       "      <th>2</th>\n",
       "      <td>blues.00031.au</td>\n",
       "      <td>0.253487</td>\n",
       "      <td>0.151571</td>\n",
       "      <td>1331.073970</td>\n",
       "      <td>1973.643437</td>\n",
       "      <td>2900.174130</td>\n",
       "      <td>0.042967</td>\n",
       "      <td>-221.802549</td>\n",
       "      <td>110.843071</td>\n",
       "      <td>18.620984</td>\n",
       "      <td>...</td>\n",
       "      <td>-13.037723</td>\n",
       "      <td>-12.652228</td>\n",
       "      <td>-1.821905</td>\n",
       "      <td>-7.260097</td>\n",
       "      <td>-6.660252</td>\n",
       "      <td>-14.682694</td>\n",
       "      <td>-11.719264</td>\n",
       "      <td>-11.025216</td>\n",
       "      <td>-13.387260</td>\n",
       "      <td>blues</td>\n",
       "    </tr>\n",
       "    <tr>\n",
       "      <th>3</th>\n",
       "      <td>blues.00012.au</td>\n",
       "      <td>0.269320</td>\n",
       "      <td>0.119072</td>\n",
       "      <td>1361.045467</td>\n",
       "      <td>1567.804596</td>\n",
       "      <td>2739.625101</td>\n",
       "      <td>0.069124</td>\n",
       "      <td>-207.208080</td>\n",
       "      <td>132.799175</td>\n",
       "      <td>-15.438986</td>\n",
       "      <td>...</td>\n",
       "      <td>-0.613248</td>\n",
       "      <td>0.384877</td>\n",
       "      <td>2.605128</td>\n",
       "      <td>-5.188924</td>\n",
       "      <td>-9.527455</td>\n",
       "      <td>-9.244394</td>\n",
       "      <td>-2.848274</td>\n",
       "      <td>-1.418707</td>\n",
       "      <td>-5.932607</td>\n",
       "      <td>blues</td>\n",
       "    </tr>\n",
       "    <tr>\n",
       "      <th>4</th>\n",
       "      <td>blues.00056.au</td>\n",
       "      <td>0.391059</td>\n",
       "      <td>0.137728</td>\n",
       "      <td>1811.076084</td>\n",
       "      <td>2052.332563</td>\n",
       "      <td>3927.809582</td>\n",
       "      <td>0.075480</td>\n",
       "      <td>-145.434568</td>\n",
       "      <td>102.829023</td>\n",
       "      <td>-12.517677</td>\n",
       "      <td>...</td>\n",
       "      <td>7.457218</td>\n",
       "      <td>-10.470444</td>\n",
       "      <td>-2.360483</td>\n",
       "      <td>-6.783624</td>\n",
       "      <td>2.671134</td>\n",
       "      <td>-4.760879</td>\n",
       "      <td>-0.949005</td>\n",
       "      <td>0.024832</td>\n",
       "      <td>-2.005315</td>\n",
       "      <td>blues</td>\n",
       "    </tr>\n",
       "  </tbody>\n",
       "</table>\n",
       "<p>5 rows × 28 columns</p>\n",
       "</div>"
      ],
      "text/plain": [
       "         filename  chroma_stft      rmse  spectral_centroid  \\\n",
       "0  blues.00081.au     0.380260  0.248262        2116.942959   \n",
       "1  blues.00022.au     0.306451  0.113475        1156.070496   \n",
       "2  blues.00031.au     0.253487  0.151571        1331.073970   \n",
       "3  blues.00012.au     0.269320  0.119072        1361.045467   \n",
       "4  blues.00056.au     0.391059  0.137728        1811.076084   \n",
       "\n",
       "   spectral_bandwidth      rolloff  zero_crossing_rate       mfcc1  \\\n",
       "0         1956.611056  4196.107960            0.127272  -26.929785   \n",
       "1         1497.668176  2170.053545            0.058613 -233.860772   \n",
       "2         1973.643437  2900.174130            0.042967 -221.802549   \n",
       "3         1567.804596  2739.625101            0.069124 -207.208080   \n",
       "4         2052.332563  3927.809582            0.075480 -145.434568   \n",
       "\n",
       "        mfcc2      mfcc3  ...     mfcc12     mfcc13    mfcc14    mfcc15  \\\n",
       "0  107.334008 -46.809993  ...  14.336612 -13.821769  7.562789 -6.181372   \n",
       "1  136.170239   3.289490  ...  -2.250578   3.959198  5.322555  0.812028   \n",
       "2  110.843071  18.620984  ... -13.037723 -12.652228 -1.821905 -7.260097   \n",
       "3  132.799175 -15.438986  ...  -0.613248   0.384877  2.605128 -5.188924   \n",
       "4  102.829023 -12.517677  ...   7.457218 -10.470444 -2.360483 -6.783624   \n",
       "\n",
       "     mfcc16     mfcc17     mfcc18     mfcc19     mfcc20  label  \n",
       "0  0.330165  -6.829571   0.965922  -7.570825   2.918987  blues  \n",
       "1 -1.107202  -4.556555  -2.436490   3.316913  -0.608485  blues  \n",
       "2 -6.660252 -14.682694 -11.719264 -11.025216 -13.387260  blues  \n",
       "3 -9.527455  -9.244394  -2.848274  -1.418707  -5.932607  blues  \n",
       "4  2.671134  -4.760879  -0.949005   0.024832  -2.005315  blues  \n",
       "\n",
       "[5 rows x 28 columns]"
      ]
     },
     "execution_count": 18,
     "metadata": {},
     "output_type": "execute_result"
    }
   ],
   "source": [
    "data = pd.read_csv('data.csv')\n",
    "data.head()"
   ]
  },
  {
   "cell_type": "code",
   "execution_count": 19,
   "metadata": {},
   "outputs": [
    {
     "data": {
      "text/plain": [
       "(1000, 28)"
      ]
     },
     "execution_count": 19,
     "metadata": {},
     "output_type": "execute_result"
    }
   ],
   "source": [
    "data.shape"
   ]
  },
  {
   "cell_type": "code",
   "execution_count": 20,
   "metadata": {},
   "outputs": [],
   "source": [
    "#dropping unnecessary columns\n",
    "data = data.drop(['filename'], axis=1)"
   ]
  },
  {
   "cell_type": "markdown",
   "metadata": {},
   "source": [
    "### Encoding labels"
   ]
  },
  {
   "cell_type": "code",
   "execution_count": 22,
   "metadata": {},
   "outputs": [],
   "source": [
    "genre_list = data.iloc[:,-1]\n",
    "encoder = LabelEncoder()\n",
    "y = encoder.fit_transform(genre_list)"
   ]
  },
  {
   "cell_type": "code",
   "execution_count": 31,
   "metadata": {
    "scrolled": true
   },
   "outputs": [],
   "source": [
    "#each row of the data assigned a label\n",
    "#y"
   ]
  },
  {
   "cell_type": "markdown",
   "metadata": {},
   "source": [
    "### Scaling feature columns"
   ]
  },
  {
   "cell_type": "markdown",
   "metadata": {},
   "source": [
    "StandardScaler => features with mean=0 and variance=1\n",
    "\n",
    "(Xi - Xmean) / (sd of feature)"
   ]
  },
  {
   "cell_type": "code",
   "execution_count": 26,
   "metadata": {},
   "outputs": [],
   "source": [
    "scaler = StandardScaler()\n",
    "X = scaler.fit_transform(np.array(data.iloc[:, :-1], dtype=float))"
   ]
  },
  {
   "cell_type": "code",
   "execution_count": 37,
   "metadata": {},
   "outputs": [
    {
     "data": {
      "text/plain": [
       "array([ 0.01965206,  1.78719576, -0.11862895, -0.54355152, -0.23862667,\n",
       "        0.56525258,  1.17331702,  0.24849119, -1.74726783,  0.27850822,\n",
       "       -1.66309873,  0.86035453, -1.39040065,  0.49083598, -0.97274341,\n",
       "        0.57128411, -1.35173991,  1.46932942, -1.46316182,  1.15463556,\n",
       "       -0.4743645 , -0.17868797, -0.62926671,  0.11859349, -1.3965024 ,\n",
       "        1.0464641 ])"
      ]
     },
     "execution_count": 37,
     "metadata": {},
     "output_type": "execute_result"
    }
   ],
   "source": [
    "X[0]"
   ]
  },
  {
   "cell_type": "markdown",
   "metadata": {},
   "source": [
    "### Dividing data into training and testing data"
   ]
  },
  {
   "cell_type": "code",
   "execution_count": 27,
   "metadata": {},
   "outputs": [],
   "source": [
    "X_train, X_test, y_train, y_test = train_test_split(X, y, test_size=0.2)"
   ]
  },
  {
   "cell_type": "code",
   "execution_count": 28,
   "metadata": {},
   "outputs": [
    {
     "name": "stdout",
     "output_type": "stream",
     "text": [
      "800\n",
      "200\n"
     ]
    }
   ],
   "source": [
    "print(len(y_train))\n",
    "print(len(y_test))"
   ]
  },
  {
   "cell_type": "code",
   "execution_count": 38,
   "metadata": {},
   "outputs": [
    {
     "data": {
      "text/plain": [
       "array([-1.36318755, -1.51161047, -1.51425623, -1.02720198, -1.63790319,\n",
       "       -1.36993657, -2.68598489,  1.40096779,  1.85692119, -1.33634611,\n",
       "        0.21864003, -1.4301045 , -0.13578662, -1.7423326 ,  0.12933912,\n",
       "       -1.53682115,  0.47505071, -0.78658234,  0.58190486, -0.83131746,\n",
       "        0.01230482, -1.01891476,  0.2759037 , -0.74811827,  0.7863191 ,\n",
       "        0.98091824])"
      ]
     },
     "execution_count": 38,
     "metadata": {},
     "output_type": "execute_result"
    }
   ],
   "source": [
    "X_train[10]"
   ]
  },
  {
   "cell_type": "code",
   "execution_count": 42,
   "metadata": {},
   "outputs": [
    {
     "data": {
      "text/plain": [
       "(800, 26)"
      ]
     },
     "execution_count": 42,
     "metadata": {},
     "output_type": "execute_result"
    }
   ],
   "source": [
    "X_train.shape"
   ]
  },
  {
   "cell_type": "markdown",
   "metadata": {},
   "source": [
    "### Classification with Keras"
   ]
  },
  {
   "cell_type": "markdown",
   "metadata": {},
   "source": [
    "#### Building the network"
   ]
  },
  {
   "cell_type": "code",
   "execution_count": 39,
   "metadata": {},
   "outputs": [],
   "source": [
    "from keras import models\n",
    "from keras import layers"
   ]
  },
  {
   "cell_type": "markdown",
   "metadata": {},
   "source": [
    "Regular densely-connected NN layer\n",
    "- units: Positive integer, dimensionality of the output space.\n",
    "- activation: Activation function to use (see activations). Default - no activation is applied (ie. \"linear\" activation: a(x) = x).\n",
    "- input shape : nD tensor. The most common situation would be a 2D input with shape (batch_size, input_dim)."
   ]
  },
  {
   "cell_type": "code",
   "execution_count": 43,
   "metadata": {},
   "outputs": [
    {
     "name": "stdout",
     "output_type": "stream",
     "text": [
      "WARNING:tensorflow:From /Users/rahuls98/anaconda3/lib/python3.7/site-packages/tensorflow/python/framework/op_def_library.py:263: colocate_with (from tensorflow.python.framework.ops) is deprecated and will be removed in a future version.\n",
      "Instructions for updating:\n",
      "Colocations handled automatically by placer.\n"
     ]
    }
   ],
   "source": [
    "model = models.Sequential() #linear stack of layers\n",
    "\n",
    "model.add(layers.Dense(256, activation='relu', input_shape=(X_train.shape[1],)))\n",
    "model.add(layers.Dense(128, activation='relu'))\n",
    "model.add(layers.Dense(64, activation='relu'))\n",
    "model.add(layers.Dense(10, activation='softmax'))"
   ]
  },
  {
   "cell_type": "code",
   "execution_count": 44,
   "metadata": {},
   "outputs": [],
   "source": [
    "model.compile(optimizer='adam',\n",
    "             loss='sparse_categorical_crossentropy',\n",
    "             metrics=['accuracy'])"
   ]
  },
  {
   "cell_type": "code",
   "execution_count": 45,
   "metadata": {
    "scrolled": true
   },
   "outputs": [
    {
     "name": "stdout",
     "output_type": "stream",
     "text": [
      "WARNING:tensorflow:From /Users/rahuls98/anaconda3/lib/python3.7/site-packages/tensorflow/python/ops/math_ops.py:3066: to_int32 (from tensorflow.python.ops.math_ops) is deprecated and will be removed in a future version.\n",
      "Instructions for updating:\n",
      "Use tf.cast instead.\n",
      "Epoch 1/20\n",
      "800/800 [==============================] - 0s 587us/step - loss: 2.1983 - acc: 0.2512\n",
      "Epoch 2/20\n",
      "800/800 [==============================] - 0s 33us/step - loss: 1.8828 - acc: 0.3900\n",
      "Epoch 3/20\n",
      "800/800 [==============================] - 0s 40us/step - loss: 1.6489 - acc: 0.4100\n",
      "Epoch 4/20\n",
      "800/800 [==============================] - 0s 39us/step - loss: 1.4635 - acc: 0.4913\n",
      "Epoch 5/20\n",
      "800/800 [==============================] - 0s 38us/step - loss: 1.3332 - acc: 0.5275\n",
      "Epoch 6/20\n",
      "800/800 [==============================] - 0s 38us/step - loss: 1.2290 - acc: 0.5800\n",
      "Epoch 7/20\n",
      "800/800 [==============================] - 0s 35us/step - loss: 1.1349 - acc: 0.6225\n",
      "Epoch 8/20\n",
      "800/800 [==============================] - 0s 42us/step - loss: 1.0539 - acc: 0.6537\n",
      "Epoch 9/20\n",
      "800/800 [==============================] - 0s 40us/step - loss: 0.9872 - acc: 0.6950\n",
      "Epoch 10/20\n",
      "800/800 [==============================] - 0s 40us/step - loss: 0.9323 - acc: 0.7087\n",
      "Epoch 11/20\n",
      "800/800 [==============================] - 0s 39us/step - loss: 0.8788 - acc: 0.7188\n",
      "Epoch 12/20\n",
      "800/800 [==============================] - 0s 37us/step - loss: 0.8327 - acc: 0.7250\n",
      "Epoch 13/20\n",
      "800/800 [==============================] - 0s 36us/step - loss: 0.7978 - acc: 0.7475\n",
      "Epoch 14/20\n",
      "800/800 [==============================] - 0s 38us/step - loss: 0.7519 - acc: 0.7587\n",
      "Epoch 15/20\n",
      "800/800 [==============================] - 0s 45us/step - loss: 0.7209 - acc: 0.7700\n",
      "Epoch 16/20\n",
      "800/800 [==============================] - 0s 43us/step - loss: 0.6862 - acc: 0.7925\n",
      "Epoch 17/20\n",
      "800/800 [==============================] - 0s 45us/step - loss: 0.6700 - acc: 0.7787\n",
      "Epoch 18/20\n",
      "800/800 [==============================] - 0s 44us/step - loss: 0.6399 - acc: 0.8038\n",
      "Epoch 19/20\n",
      "800/800 [==============================] - 0s 43us/step - loss: 0.5888 - acc: 0.8275\n",
      "Epoch 20/20\n",
      "800/800 [==============================] - 0s 44us/step - loss: 0.5615 - acc: 0.8237\n"
     ]
    }
   ],
   "source": [
    "history = model.fit(X_train, y_train, epochs=20, batch_size=128)"
   ]
  },
  {
   "cell_type": "code",
   "execution_count": 46,
   "metadata": {},
   "outputs": [
    {
     "name": "stdout",
     "output_type": "stream",
     "text": [
      "200/200 [==============================] - 0s 293us/step\n"
     ]
    }
   ],
   "source": [
    "test_loss, test_acc = model.evaluate(X_test, y_test)"
   ]
  },
  {
   "cell_type": "code",
   "execution_count": 47,
   "metadata": {},
   "outputs": [
    {
     "name": "stdout",
     "output_type": "stream",
     "text": [
      "Test Accuracy:  0.685\n"
     ]
    }
   ],
   "source": [
    "print('Test Accuracy: ',test_acc)"
   ]
  },
  {
   "cell_type": "markdown",
   "metadata": {},
   "source": [
    "(test acc < training acc) => Overfitting"
   ]
  },
  {
   "cell_type": "markdown",
   "metadata": {},
   "source": [
    "### Using validation"
   ]
  },
  {
   "cell_type": "markdown",
   "metadata": {},
   "source": [
    "The validation is done along with the training during each epoch, except the errors from the validation set classification isn't propagated back for weights and bias adjustment. \n"
   ]
  },
  {
   "cell_type": "code",
   "execution_count": 61,
   "metadata": {},
   "outputs": [],
   "source": [
    "x_val = X_train[:200]\n",
    "partial_x_train = X_train[200:]\n",
    "\n",
    "y_val = y_train[:200]\n",
    "partial_y_train = y_train[200:]"
   ]
  },
  {
   "cell_type": "code",
   "execution_count": 62,
   "metadata": {},
   "outputs": [
    {
     "data": {
      "text/plain": [
       "600"
      ]
     },
     "execution_count": 62,
     "metadata": {},
     "output_type": "execute_result"
    }
   ],
   "source": [
    "len(partial_y_train)"
   ]
  },
  {
   "cell_type": "code",
   "execution_count": 63,
   "metadata": {},
   "outputs": [],
   "source": [
    "model = models.Sequential()\n",
    "\n",
    "model.add(layers.Dense(512, activation='relu', input_shape=(X_train.shape[1],)))\n",
    "model.add(layers.Dense(256, activation='relu'))\n",
    "model.add(layers.Dense(128, activation='relu'))\n",
    "model.add(layers.Dense(64, activation='relu'))\n",
    "model.add(layers.Dense(10, activation='softmax'))\n",
    "\n",
    "model.compile(optimizer='adam',\n",
    "              loss='sparse_categorical_crossentropy',\n",
    "              metrics=['accuracy'])"
   ]
  },
  {
   "cell_type": "code",
   "execution_count": 64,
   "metadata": {
    "scrolled": true
   },
   "outputs": [
    {
     "name": "stdout",
     "output_type": "stream",
     "text": [
      "Train on 600 samples, validate on 200 samples\n",
      "Epoch 1/30\n",
      "600/600 [==============================] - 1s 1ms/step - loss: 2.3028 - acc: 0.1317 - val_loss: 2.1683 - val_acc: 0.2350\n",
      "Epoch 2/30\n",
      "600/600 [==============================] - 0s 54us/step - loss: 2.1393 - acc: 0.2833 - val_loss: 2.0713 - val_acc: 0.2550\n",
      "Epoch 3/30\n",
      "600/600 [==============================] - 0s 81us/step - loss: 2.0205 - acc: 0.3100 - val_loss: 1.9846 - val_acc: 0.2750\n",
      "Epoch 4/30\n",
      "600/600 [==============================] - 0s 54us/step - loss: 1.9007 - acc: 0.3333 - val_loss: 1.9067 - val_acc: 0.3050\n",
      "Epoch 5/30\n",
      "600/600 [==============================] - 0s 53us/step - loss: 1.7838 - acc: 0.3767 - val_loss: 1.8253 - val_acc: 0.3150\n",
      "Epoch 6/30\n",
      "600/600 [==============================] - 0s 45us/step - loss: 1.6726 - acc: 0.3967 - val_loss: 1.7439 - val_acc: 0.3550\n",
      "Epoch 7/30\n",
      "600/600 [==============================] - 0s 45us/step - loss: 1.5731 - acc: 0.4433 - val_loss: 1.6621 - val_acc: 0.4050\n",
      "Epoch 8/30\n",
      "600/600 [==============================] - 0s 52us/step - loss: 1.4714 - acc: 0.4983 - val_loss: 1.5758 - val_acc: 0.4300\n",
      "Epoch 9/30\n",
      "600/600 [==============================] - 0s 54us/step - loss: 1.3626 - acc: 0.5333 - val_loss: 1.5059 - val_acc: 0.4500\n",
      "Epoch 10/30\n",
      "600/600 [==============================] - 0s 62us/step - loss: 1.2782 - acc: 0.5867 - val_loss: 1.4660 - val_acc: 0.4750\n",
      "Epoch 11/30\n",
      "600/600 [==============================] - 0s 63us/step - loss: 1.2165 - acc: 0.6200 - val_loss: 1.4123 - val_acc: 0.4900\n",
      "Epoch 12/30\n",
      "600/600 [==============================] - 0s 61us/step - loss: 1.1327 - acc: 0.6417 - val_loss: 1.3899 - val_acc: 0.4950\n",
      "Epoch 13/30\n",
      "600/600 [==============================] - 0s 60us/step - loss: 1.0734 - acc: 0.6617 - val_loss: 1.3872 - val_acc: 0.5000\n",
      "Epoch 14/30\n",
      "600/600 [==============================] - 0s 58us/step - loss: 1.0224 - acc: 0.6750 - val_loss: 1.3569 - val_acc: 0.5250\n",
      "Epoch 15/30\n",
      "600/600 [==============================] - 0s 59us/step - loss: 0.9852 - acc: 0.6767 - val_loss: 1.2627 - val_acc: 0.5650\n",
      "Epoch 16/30\n",
      "600/600 [==============================] - 0s 60us/step - loss: 0.9246 - acc: 0.7100 - val_loss: 1.2515 - val_acc: 0.5750\n",
      "Epoch 17/30\n",
      "600/600 [==============================] - 0s 57us/step - loss: 0.8956 - acc: 0.7117 - val_loss: 1.2529 - val_acc: 0.5350\n",
      "Epoch 18/30\n",
      "600/600 [==============================] - 0s 62us/step - loss: 0.8514 - acc: 0.7233 - val_loss: 1.2384 - val_acc: 0.5750\n",
      "Epoch 19/30\n",
      "600/600 [==============================] - 0s 59us/step - loss: 0.7980 - acc: 0.7500 - val_loss: 1.3067 - val_acc: 0.5800\n",
      "Epoch 20/30\n",
      "600/600 [==============================] - 0s 51us/step - loss: 0.7960 - acc: 0.7467 - val_loss: 1.2727 - val_acc: 0.5800\n",
      "Epoch 21/30\n",
      "600/600 [==============================] - 0s 57us/step - loss: 0.7379 - acc: 0.7583 - val_loss: 1.2170 - val_acc: 0.5550\n",
      "Epoch 22/30\n",
      "600/600 [==============================] - 0s 55us/step - loss: 0.7158 - acc: 0.7583 - val_loss: 1.1875 - val_acc: 0.5750\n",
      "Epoch 23/30\n",
      "600/600 [==============================] - 0s 56us/step - loss: 0.6802 - acc: 0.7950 - val_loss: 1.1812 - val_acc: 0.5700\n",
      "Epoch 24/30\n",
      "600/600 [==============================] - 0s 61us/step - loss: 0.6365 - acc: 0.8133 - val_loss: 1.1924 - val_acc: 0.6100\n",
      "Epoch 25/30\n",
      "600/600 [==============================] - 0s 63us/step - loss: 0.6233 - acc: 0.7950 - val_loss: 1.2431 - val_acc: 0.5850\n",
      "Epoch 26/30\n",
      "600/600 [==============================] - 0s 63us/step - loss: 0.5931 - acc: 0.8033 - val_loss: 1.2639 - val_acc: 0.5500\n",
      "Epoch 27/30\n",
      "600/600 [==============================] - 0s 65us/step - loss: 0.5748 - acc: 0.8233 - val_loss: 1.2240 - val_acc: 0.5800\n",
      "Epoch 28/30\n",
      "600/600 [==============================] - 0s 64us/step - loss: 0.5435 - acc: 0.8367 - val_loss: 1.1677 - val_acc: 0.6000\n",
      "Epoch 29/30\n",
      "600/600 [==============================] - 0s 65us/step - loss: 0.5188 - acc: 0.8567 - val_loss: 1.1967 - val_acc: 0.5950\n",
      "Epoch 30/30\n",
      "600/600 [==============================] - 0s 66us/step - loss: 0.5021 - acc: 0.8467 - val_loss: 1.2234 - val_acc: 0.5750\n"
     ]
    },
    {
     "data": {
      "text/plain": [
       "<keras.callbacks.History at 0x12b4f09b0>"
      ]
     },
     "execution_count": 64,
     "metadata": {},
     "output_type": "execute_result"
    }
   ],
   "source": [
    "model.fit(partial_x_train,\n",
    "          partial_y_train,\n",
    "          epochs=30,\n",
    "          batch_size=512,\n",
    "          validation_data=(x_val, y_val))"
   ]
  },
  {
   "cell_type": "code",
   "execution_count": 66,
   "metadata": {},
   "outputs": [
    {
     "name": "stdout",
     "output_type": "stream",
     "text": [
      "200/200 [==============================] - 0s 74us/step\n"
     ]
    },
    {
     "data": {
      "text/plain": [
       "[1.0222037315368653, 0.64]"
      ]
     },
     "execution_count": 66,
     "metadata": {},
     "output_type": "execute_result"
    }
   ],
   "source": [
    "results = model.evaluate(X_test, y_test)\n",
    "results #loss value and metrics value"
   ]
  }
 ],
 "metadata": {
  "kernelspec": {
   "display_name": "Python 3",
   "language": "python",
   "name": "python3"
  },
  "language_info": {
   "codemirror_mode": {
    "name": "ipython",
    "version": 3
   },
   "file_extension": ".py",
   "mimetype": "text/x-python",
   "name": "python",
   "nbconvert_exporter": "python",
   "pygments_lexer": "ipython3",
   "version": "3.7.2"
  }
 },
 "nbformat": 4,
 "nbformat_minor": 2
}
